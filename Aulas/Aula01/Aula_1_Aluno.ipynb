{
 "cells": [
  {
   "cell_type": "markdown",
   "id": "4031249f",
   "metadata": {},
   "source": [
    "# Aula 1 - Fundamentos de Machine Learning e Detecção de Fraude em Cartões de Crédito\n",
    "\n",
    "Bem-vindo à primeira aula do curso **Python com IA - Detecção de Fraude em Cartões de Crédito**.\n",
    "\n",
    "Nesta aula iremos:\n",
    "- Entender o problema da fraude financeira\n",
    "- Introduzir conceitos básicos de Machine Learning\n",
    "- Conhecer o dataset de fraude em cartões\n",
    "- Explorar os dados com Pandas e visualizações\n"
   ]
  },
  {
   "cell_type": "markdown",
   "id": "ff2109ce",
   "metadata": {},
   "source": [
    "## O problema da fraude em cartões\n",
    "\n",
    "- Fraudes financeiras geram bilhões de prejuízo ao ano.\n",
    "- O desafio está no **grande volume de transações** e na **baixa proporção de fraudes**.\n",
    "- Importância de sistemas automatizados que detectem **padrões anômalos**."
   ]
  },
  {
   "cell_type": "markdown",
   "id": "f4153b4c",
   "metadata": {},
   "source": [
    "## Introdução ao Machine Learning\n",
    "\n",
    "- **Machine Learning**: algoritmos que aprendem a partir de dados.\n",
    "- **Aprendizado supervisionado**: usamos exemplos rotulados (fraude / não fraude).\n",
    "- **Aprendizado não supervisionado**: o modelo encontra padrões sem rótulos.\n",
    "- **Nosso foco**: classificar transações em *fraude* ou *não fraude*."
   ]
  },
  {
   "cell_type": "markdown",
   "id": "b3ef1bca",
   "metadata": {},
   "source": [
    "## O dataset de fraude em cartões\n",
    "\n",
    "- Origem: dataset público de transações anonimizadas.\n",
    "- **Total de transações**: 284.807\n",
    "- **Fraudes**: apenas 492 (0,172%)\n",
    "- **Desafio central**: dados altamente desbalanceados.\n",
    "- Colunas:\n",
    "  - `V1` a `V28`: variáveis numéricas resultantes de PCA (anonimizadas)\n",
    "  - `Amount`: valor da transação\n",
    "  - `Class`: 0 = não fraude, 1 = fraude"
   ]
  },
  {
   "cell_type": "markdown",
   "id": "5ba9837e",
   "metadata": {},
   "source": [
    "### Importando bibliotecas"
   ]
  },
  {
   "cell_type": "code",
   "execution_count": null,
   "id": "e6e15722",
   "metadata": {},
   "outputs": [],
   "source": [
    "import pandas as pd\n",
    "import matplotlib.pyplot as plt\n",
    "import seaborn as sns"
   ]
  },
  {
   "cell_type": "markdown",
   "id": "50a9bc9c",
   "metadata": {},
   "source": [
    "### Carregando o dataset\n",
    "\n",
    "➡️ **Atividade 1**: Carregue o dataset `creditcard.csv` usando Pandas e mostre as primeiras linhas."
   ]
  },
  {
   "cell_type": "code",
   "execution_count": null,
   "id": "573b51ed",
   "metadata": {},
   "outputs": [],
   "source": [
    "# Sua solução aqui\n",
    "# Exemplo:\n",
    "# df = pd.read_csv('creditcard.csv')\n",
    "# df.head()"
   ]
  },
  {
   "cell_type": "markdown",
   "id": "afb30c69",
   "metadata": {},
   "source": [
    "### Exploração inicial\n",
    "\n",
    "➡️ **Atividade 2**: Mostre o número de linhas e colunas do dataset, além dos tipos de dados."
   ]
  },
  {
   "cell_type": "code",
   "execution_count": null,
   "id": "8797d743",
   "metadata": {},
   "outputs": [],
   "source": [
    "# Sua solução aqui\n",
    "# Exemplo:\n",
    "# df.info()"
   ]
  },
  {
   "cell_type": "markdown",
   "id": "43405c25",
   "metadata": {},
   "source": [
    "➡️ **Atividade 3**: Exiba estatísticas descritivas para as colunas numéricas."
   ]
  },
  {
   "cell_type": "code",
   "execution_count": null,
   "id": "ecc9e0d3",
   "metadata": {},
   "outputs": [],
   "source": [
    "# Sua solução aqui\n",
    "# Exemplo:\n",
    "# df.describe()"
   ]
  },
  {
   "cell_type": "markdown",
   "id": "05d2e67b",
   "metadata": {},
   "source": [
    "### Distribuição das classes\n",
    "\n",
    "➡️ **Atividade 4**: Conte quantas transações são fraude (`Class=1`) e quantas não são fraude (`Class=0`)."
   ]
  },
  {
   "cell_type": "code",
   "execution_count": null,
   "id": "7732c482",
   "metadata": {},
   "outputs": [],
   "source": [
    "# Sua solução aqui\n",
    "# Exemplo:\n",
    "# df['Class'].value_counts()"
   ]
  },
  {
   "cell_type": "markdown",
   "id": "7973b321",
   "metadata": {},
   "source": [
    "### Visualização\n",
    "\n",
    "➡️ **Atividade 5**: Crie um gráfico de barras mostrando a proporção de fraudes e não fraudes."
   ]
  },
  {
   "cell_type": "code",
   "execution_count": null,
   "id": "ccb1d73d",
   "metadata": {},
   "outputs": [],
   "source": [
    "# Sua solução aqui\n",
    "# Exemplo:\n",
    "# sns.countplot(x='Class', data=df)\n",
    "# plt.show()"
   ]
  },
  {
   "cell_type": "markdown",
   "id": "7eba57c6",
   "metadata": {},
   "source": [
    "## Encerramento da Aula 1\n",
    "\n",
    "Hoje aprendemos:\n",
    "- A importância da detecção de fraude\n",
    "- Conceitos básicos de Machine Learning\n",
    "- Estrutura do dataset de fraude\n",
    "- Exploração inicial dos dados\n",
    "\n",
    "➡️ Na **Aula 2** iremos aprofundar a **Análise Exploratória de Dados** e discutir técnicas de **balanceamento de classes**."
   ]
  }
 ],
 "metadata": {},
 "nbformat": 4,
 "nbformat_minor": 5
}
