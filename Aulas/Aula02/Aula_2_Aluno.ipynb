{
 "cells": [
  {
   "cell_type": "markdown",
   "id": "3ca9be4e",
   "metadata": {},
   "source": [
    "# Aula 2 – Análise Exploratória de Dados\n",
    "\n",
    "Nesta aula, vamos explorar o dataset para entender padrões e características."
   ]
  },
  {
   "cell_type": "code",
   "execution_count": null,
   "id": "95409a1c",
   "metadata": {},
   "outputs": [],
   "source": [
    "import pandas as pd\n",
    "import matplotlib.pyplot as plt\n",
    "import seaborn as sns\n",
    "\n",
    "# Carregar dataset\n",
    "# COMPLETE: substitua pelo caminho do seu arquivo\n",
    "# data = pd.read_csv('creditcard.csv')\n",
    "\n",
    "data.head()"
   ]
  },
  {
   "cell_type": "markdown",
   "id": "1c36edbb",
   "metadata": {},
   "source": [
    "## Estatísticas Descritivas\n",
    "Complete o código abaixo."
   ]
  },
  {
   "cell_type": "code",
   "execution_count": null,
   "id": "ed71c86d",
   "metadata": {},
   "outputs": [],
   "source": [
    "# COMPLETE\n",
    "data.____"
   ]
  },
  {
   "cell_type": "markdown",
   "id": "8bf3ee51",
   "metadata": {},
   "source": [
    "## Distribuição da Variável Alvo"
   ]
  },
  {
   "cell_type": "code",
   "execution_count": null,
   "id": "fec5ffb7",
   "metadata": {},
   "outputs": [],
   "source": [
    "# COMPLETE\n",
    "# data['Class'].value_counts()"
   ]
  },
  {
   "cell_type": "markdown",
   "id": "ca7f6674",
   "metadata": {},
   "source": [
    "## Histogramas"
   ]
  },
  {
   "cell_type": "code",
   "execution_count": null,
   "id": "c95dba4c",
   "metadata": {},
   "outputs": [],
   "source": [
    "# COMPLETE\n",
    "# data['V1'].hist(bins=50)\n",
    "# plt.show()"
   ]
  },
  {
   "cell_type": "markdown",
   "id": "4f57297e",
   "metadata": {},
   "source": [
    "## Matriz de Correlação"
   ]
  },
  {
   "cell_type": "code",
   "execution_count": null,
   "id": "6166de18",
   "metadata": {},
   "outputs": [],
   "source": [
    "# COMPLETE\n",
    "# corr = data.corr()\n",
    "# plt.figure(figsize=(12,8))\n",
    "# sns.heatmap(corr, cmap='coolwarm', center=0)\n",
    "# plt.show()"
   ]
  }
 ],
 "metadata": {},
 "nbformat": 4,
 "nbformat_minor": 5
}
