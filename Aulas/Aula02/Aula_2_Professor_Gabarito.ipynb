{
 "cells": [
  {
   "cell_type": "markdown",
   "id": "4f75f193",
   "metadata": {},
   "source": [
    "# Aula 2 – Análise Exploratória de Dados (Gabarito do Professor)"
   ]
  },
  {
   "cell_type": "code",
   "execution_count": null,
   "id": "f0c9ed1e",
   "metadata": {},
   "outputs": [],
   "source": [
    "import pandas as pd\n",
    "import matplotlib.pyplot as plt\n",
    "import seaborn as sns\n",
    "\n",
    "data = pd.read_csv('creditcard.csv')\n",
    "data.head()"
   ]
  },
  {
   "cell_type": "markdown",
   "id": "50062526",
   "metadata": {},
   "source": [
    "## Estatísticas Descritivas"
   ]
  },
  {
   "cell_type": "code",
   "execution_count": null,
   "id": "4c0817dd",
   "metadata": {},
   "outputs": [],
   "source": [
    "data.describe()"
   ]
  },
  {
   "cell_type": "markdown",
   "id": "dc6a6edc",
   "metadata": {},
   "source": [
    "## Distribuição da Variável Alvo"
   ]
  },
  {
   "cell_type": "code",
   "execution_count": null,
   "id": "4facf6f1",
   "metadata": {},
   "outputs": [],
   "source": [
    "data['Class'].value_counts(normalize=True)"
   ]
  },
  {
   "cell_type": "markdown",
   "id": "bb6e57dd",
   "metadata": {},
   "source": [
    "## Histogramas"
   ]
  },
  {
   "cell_type": "code",
   "execution_count": null,
   "id": "3a04a175",
   "metadata": {},
   "outputs": [],
   "source": [
    "data['V1'].hist(bins=50)\n",
    "plt.show()"
   ]
  },
  {
   "cell_type": "markdown",
   "id": "9cd35906",
   "metadata": {},
   "source": [
    "## Matriz de Correlação"
   ]
  },
  {
   "cell_type": "code",
   "execution_count": null,
   "id": "a54b0642",
   "metadata": {},
   "outputs": [],
   "source": [
    "corr = data.corr()\n",
    "plt.figure(figsize=(12,8))\n",
    "sns.heatmap(corr, cmap='coolwarm', center=0)\n",
    "plt.show()"
   ]
  }
 ],
 "metadata": {},
 "nbformat": 4,
 "nbformat_minor": 5
}
