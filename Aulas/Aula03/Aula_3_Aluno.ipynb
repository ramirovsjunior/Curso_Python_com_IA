{
 "cells": [
  {
   "cell_type": "markdown",
   "id": "deecc44e",
   "metadata": {},
   "source": [
    "# Aula 3 – Pré-processamento e Modelagem Inicial\n",
    "\n",
    "Bem-vindo à terceira aula! Nesta aula vamos trabalhar com:\n",
    "- Normalização dos dados\n",
    "- Divisão em treino e teste\n",
    "- Balanceamento de classes\n",
    "- Primeiro modelo de classificação (Regressão Logística)\n",
    "\n",
    "⚡ **Importante:** Este notebook contém espaços para você completar."
   ]
  },
  {
   "cell_type": "code",
   "execution_count": null,
   "id": "160dd646",
   "metadata": {},
   "outputs": [],
   "source": [
    "import pandas as pd\n",
    "import numpy as np\n",
    "\n",
    "from sklearn.model_selection import train_test_split\n",
    "from sklearn.preprocessing import StandardScaler\n",
    "from sklearn.linear_model import LogisticRegression\n",
    "from sklearn.metrics import classification_report\n",
    "\n",
    "# Dataset (assumindo já carregado anteriormente)\n",
    "data = pd.read_csv('creditcard.csv')\n",
    "data.head()"
   ]
  },
  {
   "cell_type": "markdown",
   "id": "a7dfa5cf",
   "metadata": {},
   "source": [
    "## Normalização da Coluna Amount\n",
    "Preencha o código para normalizar a coluna `Amount`. Utilize o `StandardScaler`. "
   ]
  },
  {
   "cell_type": "code",
   "execution_count": null,
   "id": "0c55082d",
   "metadata": {},
   "outputs": [],
   "source": [
    "from sklearn.preprocessing import StandardScaler\n",
    "\n",
    "scaler = StandardScaler()\n",
    "# COMPLETE AQUI\n",
    "# data['Amount_Scaled'] = _____"
   ]
  },
  {
   "cell_type": "markdown",
   "id": "1913b1e0",
   "metadata": {},
   "source": [
    "## Divisão em Treino e Teste\n",
    "Agora vamos dividir em treino e teste. Use `train_test_split`. "
   ]
  },
  {
   "cell_type": "code",
   "execution_count": null,
   "id": "445b6a0d",
   "metadata": {},
   "outputs": [],
   "source": [
    "from sklearn.model_selection import train_test_split\n",
    "\n",
    "X = data.drop(['Class'], axis=1)\n",
    "y = data['Class']\n",
    "\n",
    "# COMPLETE AQUI\n",
    "# X_train, X_test, y_train, y_test = train_test_split(_____, _____, test_size=0.3, random_state=42, stratify=y)"
   ]
  },
  {
   "cell_type": "markdown",
   "id": "ff946447",
   "metadata": {},
   "source": [
    "## Balanceamento de Classes com SMOTE\n",
    "Complete o código abaixo para aplicar o SMOTE."
   ]
  },
  {
   "cell_type": "code",
   "execution_count": null,
   "id": "96911047",
   "metadata": {},
   "outputs": [],
   "source": [
    "from imblearn.over_sampling import SMOTE\n",
    "\n",
    "smote = SMOTE(random_state=42)\n",
    "# COMPLETE AQUI\n",
    "# X_train_res, y_train_res = smote.fit_resample(_____, _____)"
   ]
  },
  {
   "cell_type": "markdown",
   "id": "5de246fb",
   "metadata": {},
   "source": [
    "## Modelo de Regressão Logística\n",
    "Agora vamos treinar o modelo."
   ]
  },
  {
   "cell_type": "code",
   "execution_count": null,
   "id": "0a4fcee6",
   "metadata": {},
   "outputs": [],
   "source": [
    "model = LogisticRegression(max_iter=1000)\n",
    "# COMPLETE AQUI\n",
    "# model.fit(_____, _____)"
   ]
  },
  {
   "cell_type": "markdown",
   "id": "79105997",
   "metadata": {},
   "source": [
    "## Avaliação do Modelo\n",
    "Use `classification_report` para avaliar."
   ]
  },
  {
   "cell_type": "code",
   "execution_count": null,
   "id": "3f8189f7",
   "metadata": {},
   "outputs": [],
   "source": [
    "y_pred = model.predict(X_test)\n",
    "print(classification_report(y_test, y_pred))"
   ]
  }
 ],
 "metadata": {},
 "nbformat": 4,
 "nbformat_minor": 5
}
