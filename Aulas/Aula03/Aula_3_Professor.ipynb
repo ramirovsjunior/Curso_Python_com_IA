{
 "cells": [
  {
   "cell_type": "markdown",
   "id": "7dc6f07a",
   "metadata": {},
   "source": [
    "# Aula 3 – Pré-processamento e Modelagem Inicial (Gabarito do Professor)"
   ]
  },
  {
   "cell_type": "code",
   "execution_count": null,
   "id": "e901c2e3",
   "metadata": {},
   "outputs": [],
   "source": [
    "import pandas as pd\n",
    "import numpy as np\n",
    "\n",
    "from sklearn.model_selection import train_test_split\n",
    "from sklearn.preprocessing import StandardScaler\n",
    "from sklearn.linear_model import LogisticRegression\n",
    "from sklearn.metrics import classification_report\n",
    "from imblearn.over_sampling import SMOTE\n",
    "\n",
    "# Dataset\n",
    "# Assumindo que o arquivo creditcard.csv está disponível\n",
    "\n",
    "data = pd.read_csv('creditcard.csv')\n",
    "data.head()"
   ]
  },
  {
   "cell_type": "markdown",
   "id": "a5eb353b",
   "metadata": {},
   "source": [
    "## Normalização da Coluna Amount"
   ]
  },
  {
   "cell_type": "code",
   "execution_count": null,
   "id": "32b4a8ac",
   "metadata": {},
   "outputs": [],
   "source": [
    "scaler = StandardScaler()\n",
    "data['Amount_Scaled'] = scaler.fit_transform(data[['Amount']])\n",
    "data.head()"
   ]
  },
  {
   "cell_type": "markdown",
   "id": "0c110f00",
   "metadata": {},
   "source": [
    "## Divisão em Treino e Teste"
   ]
  },
  {
   "cell_type": "code",
   "execution_count": null,
   "id": "92924350",
   "metadata": {},
   "outputs": [],
   "source": [
    "X = data.drop(['Class'], axis=1)\n",
    "y = data['Class']\n",
    "\n",
    "X_train, X_test, y_train, y_test = train_test_split(\n",
    "    X, y, test_size=0.3, random_state=42, stratify=y\n",
    ")\n",
    "\n",
    "X_train.shape, X_test.shape"
   ]
  },
  {
   "cell_type": "markdown",
   "id": "d69a4b2b",
   "metadata": {},
   "source": [
    "## Balanceamento de Classes com SMOTE"
   ]
  },
  {
   "cell_type": "code",
   "execution_count": null,
   "id": "e021f762",
   "metadata": {},
   "outputs": [],
   "source": [
    "smote = SMOTE(random_state=42)\n",
    "X_train_res, y_train_res = smote.fit_resample(X_train, y_train)\n",
    "\n",
    "pd.Series(y_train_res).value_counts()"
   ]
  },
  {
   "cell_type": "markdown",
   "id": "ed551980",
   "metadata": {},
   "source": [
    "## Modelo de Regressão Logística"
   ]
  },
  {
   "cell_type": "code",
   "execution_count": null,
   "id": "588c81a8",
   "metadata": {},
   "outputs": [],
   "source": [
    "model = LogisticRegression(max_iter=1000)\n",
    "model.fit(X_train_res, y_train_res)"
   ]
  },
  {
   "cell_type": "markdown",
   "id": "5a0c38df",
   "metadata": {},
   "source": [
    "## Avaliação do Modelo"
   ]
  },
  {
   "cell_type": "code",
   "execution_count": null,
   "id": "3b36892a",
   "metadata": {},
   "outputs": [],
   "source": [
    "y_pred = model.predict(X_test)\n",
    "print(classification_report(y_test, y_pred))"
   ]
  }
 ],
 "metadata": {},
 "nbformat": 4,
 "nbformat_minor": 5
}
