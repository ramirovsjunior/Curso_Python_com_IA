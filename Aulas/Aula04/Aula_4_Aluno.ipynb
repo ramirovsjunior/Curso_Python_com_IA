{
 "cells": [
  {
   "cell_type": "markdown",
   "id": "3afa1740",
   "metadata": {},
   "source": [
    "# Aula 4 – Modelagem Avançada e Avaliação de Desempenho\n",
    "\n",
    "Neste notebook, você irá treinar diferentes modelos de Machine Learning para detectar fraudes em cartões de crédito, e avaliar seu desempenho."
   ]
  },
  {
   "cell_type": "markdown",
   "id": "4c20ae44",
   "metadata": {},
   "source": [
    "## 1. Importar bibliotecas necessárias"
   ]
  },
  {
   "cell_type": "code",
   "execution_count": null,
   "id": "8d65e6b5",
   "metadata": {},
   "outputs": [],
   "source": [
    "# Importe as bibliotecas necessárias (pandas, numpy, sklearn, xgboost, matplotlib, seaborn)\n"
   ]
  },
  {
   "cell_type": "markdown",
   "id": "63b96931",
   "metadata": {},
   "source": [
    "## 2. Carregar os dados"
   ]
  },
  {
   "cell_type": "code",
   "execution_count": null,
   "id": "22322970",
   "metadata": {},
   "outputs": [],
   "source": [
    "# Carregue o dataset pré-processado usado na aula anterior\n",
    "# df = pd.read_csv('dados_preprocessados.csv')\n"
   ]
  },
  {
   "cell_type": "markdown",
   "id": "5401e149",
   "metadata": {},
   "source": [
    "## 3. Separar features e target"
   ]
  },
  {
   "cell_type": "code",
   "execution_count": null,
   "id": "98730861",
   "metadata": {},
   "outputs": [],
   "source": [
    "# X = df.drop('Class', axis=1)\n",
    "# y = df['Class']\n"
   ]
  },
  {
   "cell_type": "markdown",
   "id": "daeeee15",
   "metadata": {},
   "source": [
    "## 4. Dividir em treino e teste"
   ]
  },
  {
   "cell_type": "code",
   "execution_count": null,
   "id": "d08f6f69",
   "metadata": {},
   "outputs": [],
   "source": [
    "# from sklearn.model_selection import train_test_split\n",
    "# X_train, X_test, y_train, y_test = train_test_split(X, y, test_size=0.3, random_state=42, stratify=y)\n"
   ]
  },
  {
   "cell_type": "markdown",
   "id": "a0c0a931",
   "metadata": {},
   "source": [
    "## 5. Treinar Random Forest"
   ]
  },
  {
   "cell_type": "code",
   "execution_count": null,
   "id": "7d6e4baa",
   "metadata": {},
   "outputs": [],
   "source": [
    "# from sklearn.ensemble import RandomForestClassifier\n",
    "# rf = RandomForestClassifier(n_estimators=100, random_state=42)\n",
    "# rf.fit(X_train, y_train)\n",
    "# y_pred_rf = rf.predict(X_test)\n"
   ]
  },
  {
   "cell_type": "markdown",
   "id": "fd8631ae",
   "metadata": {},
   "source": [
    "## 6. Treinar Gradient Boosting"
   ]
  },
  {
   "cell_type": "code",
   "execution_count": null,
   "id": "c3dade32",
   "metadata": {},
   "outputs": [],
   "source": [
    "# from sklearn.ensemble import GradientBoostingClassifier\n",
    "# gb = GradientBoostingClassifier(n_estimators=100, learning_rate=0.1, random_state=42)\n",
    "# gb.fit(X_train, y_train)\n",
    "# y_pred_gb = gb.predict(X_test)\n"
   ]
  },
  {
   "cell_type": "markdown",
   "id": "ec8f3a9d",
   "metadata": {},
   "source": [
    "## 7. Treinar XGBoost"
   ]
  },
  {
   "cell_type": "code",
   "execution_count": null,
   "id": "e1b84617",
   "metadata": {},
   "outputs": [],
   "source": [
    "# import xgboost as xgb\n",
    "# xgb_model = xgb.XGBClassifier(use_label_encoder=False, eval_metric='logloss')\n",
    "# xgb_model.fit(X_train, y_train)\n",
    "# y_pred_xgb = xgb_model.predict(X_test)\n"
   ]
  },
  {
   "cell_type": "markdown",
   "id": "b1c7d6ac",
   "metadata": {},
   "source": [
    "## 8. Avaliar os modelos (Precision, Recall, F1-score, AUC)"
   ]
  },
  {
   "cell_type": "code",
   "execution_count": null,
   "id": "be549841",
   "metadata": {},
   "outputs": [],
   "source": [
    "# from sklearn.metrics import classification_report, roc_auc_score\n",
    "# print(classification_report(y_test, y_pred_rf))\n",
    "# print(roc_auc_score(y_test, y_pred_rf))\n"
   ]
  },
  {
   "cell_type": "markdown",
   "id": "4101ce89",
   "metadata": {},
   "source": [
    "## 9. Matriz de confusão e Curva ROC"
   ]
  },
  {
   "cell_type": "code",
   "execution_count": null,
   "id": "044ba33a",
   "metadata": {},
   "outputs": [],
   "source": [
    "# from sklearn.metrics import confusion_matrix, roc_curve\n",
    "# import matplotlib.pyplot as plt\n",
    "# cm = confusion_matrix(y_test, y_pred_rf)\n",
    "# print(cm)\n"
   ]
  }
 ],
 "metadata": {},
 "nbformat": 4,
 "nbformat_minor": 5
}
