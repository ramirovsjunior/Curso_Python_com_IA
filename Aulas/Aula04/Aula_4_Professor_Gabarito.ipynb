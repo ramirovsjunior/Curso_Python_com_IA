{
 "cells": [
  {
   "cell_type": "markdown",
   "id": "a90fc962",
   "metadata": {},
   "source": [
    "# Aula 4 – Modelagem Avançada e Avaliação de Desempenho (Gabarito)"
   ]
  },
  {
   "cell_type": "code",
   "execution_count": null,
   "id": "fcf2944c",
   "metadata": {},
   "outputs": [],
   "source": [
    "\n",
    "import pandas as pd\n",
    "import numpy as np\n",
    "from sklearn.model_selection import train_test_split\n",
    "from sklearn.ensemble import RandomForestClassifier, GradientBoostingClassifier\n",
    "import xgboost as xgb\n",
    "from sklearn.metrics import classification_report, confusion_matrix, roc_auc_score, roc_curve\n",
    "import matplotlib.pyplot as plt\n",
    "import seaborn as sns\n"
   ]
  },
  {
   "cell_type": "code",
   "execution_count": null,
   "id": "09ff0c49",
   "metadata": {},
   "outputs": [],
   "source": [
    "\n",
    "# Carregar dados pré-processados (simulação)\n",
    "# df = pd.read_csv(\"dados_preprocessados.csv\")\n",
    "# Para este exemplo, vamos gerar dados fictícios\n",
    "from sklearn.datasets import make_classification\n",
    "X, y = make_classification(n_samples=5000, n_features=20, n_informative=10, n_classes=2, weights=[0.99, 0.01], random_state=42)\n",
    "df = pd.DataFrame(X)\n",
    "df['Class'] = y\n"
   ]
  },
  {
   "cell_type": "code",
   "execution_count": null,
   "id": "cef58a7b",
   "metadata": {},
   "outputs": [],
   "source": [
    "\n",
    "X = df.drop('Class', axis=1)\n",
    "y = df['Class']\n",
    "X_train, X_test, y_train, y_test = train_test_split(X, y, test_size=0.3, stratify=y, random_state=42)\n"
   ]
  },
  {
   "cell_type": "code",
   "execution_count": null,
   "id": "040876cd",
   "metadata": {},
   "outputs": [],
   "source": [
    "\n",
    "# Random Forest\n",
    "rf = RandomForestClassifier(n_estimators=100, random_state=42)\n",
    "rf.fit(X_train, y_train)\n",
    "y_pred_rf = rf.predict(X_test)\n",
    "print(\"Random Forest\")\n",
    "print(classification_report(y_test, y_pred_rf))\n",
    "print(\"AUC:\", roc_auc_score(y_test, y_pred_rf))\n"
   ]
  },
  {
   "cell_type": "code",
   "execution_count": null,
   "id": "890efbb6",
   "metadata": {},
   "outputs": [],
   "source": [
    "\n",
    "# Gradient Boosting\n",
    "gb = GradientBoostingClassifier(n_estimators=100, learning_rate=0.1, random_state=42)\n",
    "gb.fit(X_train, y_train)\n",
    "y_pred_gb = gb.predict(X_test)\n",
    "print(\"Gradient Boosting\")\n",
    "print(classification_report(y_test, y_pred_gb))\n",
    "print(\"AUC:\", roc_auc_score(y_test, y_pred_gb))\n"
   ]
  },
  {
   "cell_type": "code",
   "execution_count": null,
   "id": "e4b56301",
   "metadata": {},
   "outputs": [],
   "source": [
    "\n",
    "# XGBoost\n",
    "xgb_model = xgb.XGBClassifier(use_label_encoder=False, eval_metric='logloss')\n",
    "xgb_model.fit(X_train, y_train)\n",
    "y_pred_xgb = xgb_model.predict(X_test)\n",
    "print(\"XGBoost\")\n",
    "print(classification_report(y_test, y_pred_xgb))\n",
    "print(\"AUC:\", roc_auc_score(y_test, y_pred_xgb))\n"
   ]
  },
  {
   "cell_type": "code",
   "execution_count": null,
   "id": "fcad0f09",
   "metadata": {},
   "outputs": [],
   "source": [
    "\n",
    "# Matriz de confusão e Curva ROC para XGBoost\n",
    "cm = confusion_matrix(y_test, y_pred_xgb)\n",
    "sns.heatmap(cm, annot=True, fmt=\"d\", cmap=\"Blues\")\n",
    "plt.title(\"Matriz de Confusão - XGBoost\")\n",
    "plt.show()\n",
    "\n",
    "fpr, tpr, thresholds = roc_curve(y_test, y_pred_xgb)\n",
    "plt.plot(fpr, tpr, label=\"XGBoost\")\n",
    "plt.plot([0,1], [0,1], linestyle=\"--\")\n",
    "plt.xlabel(\"False Positive Rate\")\n",
    "plt.ylabel(\"True Positive Rate\")\n",
    "plt.title(\"Curva ROC - XGBoost\")\n",
    "plt.legend()\n",
    "plt.show()\n"
   ]
  }
 ],
 "metadata": {},
 "nbformat": 4,
 "nbformat_minor": 5
}
